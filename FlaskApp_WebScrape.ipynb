{
 "cells": [
  {
   "cell_type": "markdown",
   "id": "847a46ea",
   "metadata": {},
   "source": [
    "!pip install Flask-PyMongo"
   ]
  },
  {
   "cell_type": "markdown",
   "id": "1ed3bffa",
   "metadata": {},
   "source": [
    "### Flask App Run in Jupyter Notebook"
   ]
  },
  {
   "cell_type": "code",
   "execution_count": 1,
   "id": "13a68156",
   "metadata": {},
   "outputs": [
    {
     "name": "stdout",
     "output_type": "stream",
     "text": [
      " * Serving Flask app \"__main__\" (lazy loading)\n",
      " * Environment: production\n",
      "   WARNING: This is a development server. Do not use it in a production deployment.\n",
      "   Use a production WSGI server instead.\n",
      " * Debug mode: off\n"
     ]
    },
    {
     "name": "stderr",
     "output_type": "stream",
     "text": [
      " * Running on http://127.0.0.1:5000/ (Press CTRL+C to quit)\n",
      "127.0.0.1 - - [28/Mar/2022 18:11:48] \"\u001b[37mGET / HTTP/1.1\u001b[0m\" 200 -\n"
     ]
    }
   ],
   "source": [
    "# Dependencies--------------------------------------------------------------------\n",
    "from flask import Flask, render_template, redirect\n",
    "from flask_pymongo import PyMongo\n",
    "import scrape_mars\n",
    "\n",
    "#Flask App Code-------------------------------------------------------------------\n",
    "app = Flask(__name__)\n",
    "\n",
    "# Code - Flask PyMongo Code------------------------------------------\n",
    "app.config[\"MONGO_URI\"] = \"mongodb://localhost:27017/webscrape_app\"\n",
    "mongo = PyMongo(app)\n",
    "\n",
    "\n",
    "# Def Function for Index---------------------------------------------\n",
    "@app.route(\"/\")\n",
    "def index():\n",
    "    mars = mongo.db.mars.find_one()\n",
    "    return render_template(\"index.html\", mars=mars)\n",
    "\n",
    "# Def Function for Scrape--------------------------------------------\n",
    "@app.route(\"/scrape\")\n",
    "def scrape():\n",
    "    mars = mongo.db.mars\n",
    "    mars_data = scrape_mars.scrape_all()\n",
    "    mars.update({}, mars_data, upsert=True)\n",
    "    return redirect('/', code=302)\n",
    "\n",
    "#Run App-------------------------------------------------------------\n",
    "if __name__ == \"__main__\":\n",
    "    app.run()\n"
   ]
  },
  {
   "cell_type": "code",
   "execution_count": null,
   "id": "fbdef8d9",
   "metadata": {},
   "outputs": [],
   "source": []
  }
 ],
 "metadata": {
  "kernelspec": {
   "display_name": "Python 3",
   "language": "python",
   "name": "python3"
  },
  "language_info": {
   "codemirror_mode": {
    "name": "ipython",
    "version": 3
   },
   "file_extension": ".py",
   "mimetype": "text/x-python",
   "name": "python",
   "nbconvert_exporter": "python",
   "pygments_lexer": "ipython3",
   "version": "3.8.8"
  }
 },
 "nbformat": 4,
 "nbformat_minor": 5
}
